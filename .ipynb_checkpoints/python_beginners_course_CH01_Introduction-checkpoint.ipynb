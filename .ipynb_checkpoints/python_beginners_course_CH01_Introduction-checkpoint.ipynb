{
 "cells": [
  {
   "cell_type": "markdown",
   "metadata": {
    "slideshow": {
     "slide_type": "slide"
    }
   },
   "source": [
    "# Python beginners course - chapter 1: Introduction"
   ]
  },
  {
   "cell_type": "markdown",
   "metadata": {
    "slideshow": {
     "slide_type": "subslide"
    }
   },
   "source": [
    "# Python, a brief history"
   ]
  },
  {
   "cell_type": "markdown",
   "metadata": {
    "slideshow": {
     "slide_type": "fragment"
    }
   },
   "source": [
    "* first implemented in 1989 by Guido van Rossem (nationality: Dutch) at CWI in the Netherlands\n",
    "\n",
    "* Its name is inspired by the BBC show \"Monty Python's flying circus\" \n",
    "\n",
    "* Guido, named the Benevolent Dictator For Life by the python community, \"stepped down\" in 2018\n",
    "\n",
    "* There are two version of python still widely used,  python 2 and python 3\n",
    "\n",
    "* However, python 2 (latest version 2.7) is no longer being maintained as of 2018, so please use python 3"
   ]
  },
  {
   "cell_type": "markdown",
   "metadata": {
    "slideshow": {
     "slide_type": "subslide"
    }
   },
   "source": [
    "#### old logo"
   ]
  },
  {
   "cell_type": "code",
   "execution_count": 3,
   "metadata": {
    "slideshow": {
     "slide_type": "fragment"
    }
   },
   "outputs": [
    {
     "data": {
      "text/html": [
       "<img src=\"https://upload.wikimedia.org/wikipedia/commons/thumb/7/72/Python_logo_1990s.svg/2880px-Python_logo_1990s.svg.png\"/>"
      ],
      "text/plain": [
       "<IPython.core.display.Image object>"
      ]
     },
     "execution_count": 3,
     "metadata": {},
     "output_type": "execute_result"
    }
   ],
   "source": [
    "from IPython.display import Image\n",
    "from IPython.core.display import HTML \n",
    "Image(url= \"https://upload.wikimedia.org/wikipedia/commons/thumb/7/72/Python_logo_1990s.svg/2880px-Python_logo_1990s.svg.png\")"
   ]
  },
  {
   "cell_type": "markdown",
   "metadata": {
    "slideshow": {
     "slide_type": "subslide"
    }
   },
   "source": [
    "# So why would I want to learn programming with python?"
   ]
  },
  {
   "cell_type": "markdown",
   "metadata": {
    "slideshow": {
     "slide_type": "fragment"
    }
   },
   "source": [
    "##### This totally depends upon your own goals of course, but learning python makes a lot of cool stuff possible.\n",
    "##### It is often referred to as a \"Swiss army knife\", due to the many things you can do with it. A few examples:\n",
    "    * Manipulate data (for example by using pandas)\n",
    "    * Manage (advanced) dataflows (for example by using Apache Airflow)\n",
    "    * Build websites/APIs (using flask)\n",
    "    * Make machine learning models (using sklearn)\n",
    "    * Build games"
   ]
  },
  {
   "cell_type": "markdown",
   "metadata": {
    "slideshow": {
     "slide_type": "subslide"
    }
   },
   "source": [
    "## Okay, so where do I start?"
   ]
  },
  {
   "cell_type": "markdown",
   "metadata": {
    "slideshow": {
     "slide_type": "fragment"
    }
   },
   "source": [
    "##### Working with python becomes a lot easier if you have some tools besides python to speed up your work:\n",
    "\n",
    "* command line interface (CLI), Git Bash (for Windows) and iTerm2 (for Mac) are highly recommended\n",
    "* Anaconda - a tool that enables you to work in various user interfaces such as Jupyter (Lab) and quickly download the most used packages\n",
    "* A github account to store your code (not covered in this course)"
   ]
  }
 ],
 "metadata": {
  "celltoolbar": "Slideshow",
  "kernelspec": {
   "display_name": "Python 3",
   "language": "python",
   "name": "python3"
  },
  "language_info": {
   "codemirror_mode": {
    "name": "ipython",
    "version": 3
   },
   "file_extension": ".py",
   "mimetype": "text/x-python",
   "name": "python",
   "nbconvert_exporter": "python",
   "pygments_lexer": "ipython3",
   "version": "3.7.1"
  }
 },
 "nbformat": 4,
 "nbformat_minor": 2
}
