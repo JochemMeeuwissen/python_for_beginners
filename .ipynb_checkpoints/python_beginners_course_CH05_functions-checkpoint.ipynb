{
 "cells": [
  {
   "cell_type": "markdown",
   "metadata": {
    "slideshow": {
     "slide_type": "slide"
    }
   },
   "source": [
    "##### Python beginners course - chapter 5: functions"
   ]
  },
  {
   "cell_type": "markdown",
   "metadata": {
    "slideshow": {
     "slide_type": "subslide"
    }
   },
   "source": [
    "### The goal of this chapter is to make you familiar with:\n",
    "* functions without arguments\n",
    "* functions with arguments\n",
    "* recursive functions"
   ]
  },
  {
   "cell_type": "markdown",
   "metadata": {
    "slideshow": {
     "slide_type": "subslide"
    }
   },
   "source": [
    "#### I `function` perfectly all by myself "
   ]
  },
  {
   "cell_type": "code",
   "execution_count": 1,
   "metadata": {
    "slideshow": {
     "slide_type": "fragment"
    }
   },
   "outputs": [],
   "source": [
    "# function start with def, followed by the function name:\n",
    "def print_something():\n",
    "    print(\"something\")"
   ]
  },
  {
   "cell_type": "code",
   "execution_count": 2,
   "metadata": {
    "slideshow": {
     "slide_type": "fragment"
    }
   },
   "outputs": [
    {
     "name": "stdout",
     "output_type": "stream",
     "text": [
      "something\n"
     ]
    }
   ],
   "source": [
    "# You can call the function directly\n",
    "print_something()"
   ]
  },
  {
   "cell_type": "markdown",
   "metadata": {
    "slideshow": {
     "slide_type": "subslide"
    }
   },
   "source": [
    "#### Do you have any arguments?\n",
    "\n",
    "Arguments:\n",
    "* provide flexibility\n",
    "* can be asigned default values\n",
    "* can be designed to take multiple input types"
   ]
  },
  {
   "cell_type": "code",
   "execution_count": 3,
   "metadata": {
    "slideshow": {
     "slide_type": "fragment"
    }
   },
   "outputs": [
    {
     "name": "stdout",
     "output_type": "stream",
     "text": [
      "something\n",
      "SOMETHINGY\n"
     ]
    }
   ],
   "source": [
    "# you can add parameters to your function between parentheses, and optionally add default values\n",
    "def print_something(s=\"something\"):\n",
    "    print(s)\n",
    "\n",
    "print_something()\n",
    "print_something(\"SOMETHINGY\")"
   ]
  },
  {
   "cell_type": "code",
   "execution_count": 4,
   "metadata": {
    "slideshow": {
     "slide_type": "fragment"
    }
   },
   "outputs": [
    {
     "name": "stdout",
     "output_type": "stream",
     "text": [
      "something\n",
      "SOMETHINGY\n"
     ]
    }
   ],
   "source": [
    "print_something()\n",
    "print_something(\"SOMETHINGY\")"
   ]
  },
  {
   "cell_type": "code",
   "execution_count": 5,
   "metadata": {
    "slideshow": {
     "slide_type": "subslide"
    }
   },
   "outputs": [
    {
     "name": "stdout",
     "output_type": "stream",
     "text": [
      "Help on function print_something in module __main__:\n",
      "\n",
      "print_something(s='something')\n",
      "    Print s\n",
      "    :param s: The string to be printed\n",
      "\n"
     ]
    }
   ],
   "source": [
    "# To make your function even more usable by your colleagues or future self, add documentation\n",
    "def print_something(s=\"something\"):\n",
    "    \"\"\"\n",
    "        Print s\n",
    "        :param s: The string to be printed\n",
    "    \"\"\"\n",
    "    print(s)\n",
    "\n",
    "# This can be viewed by using help, or by pressing shift+Tab inside the function call\n",
    "help(print_something)\n",
    "\n",
    "# some more info: https://www.datacamp.com/community/tutorials/docstrings-python"
   ]
  },
  {
   "cell_type": "markdown",
   "metadata": {
    "slideshow": {
     "slide_type": "subslide"
    }
   },
   "source": [
    "#### Bonus: recursive funtions\n",
    "Use them only when necessary, as they are often difficult for others to follow."
   ]
  },
  {
   "cell_type": "code",
   "execution_count": 6,
   "metadata": {
    "slideshow": {
     "slide_type": "fragment"
    }
   },
   "outputs": [],
   "source": [
    "def my_fibonnaci_function(n):\n",
    "    if (n>1):\n",
    "        result = my_fibonnaci_function(n-1)+my_fibonnaci_function(n-2)\n",
    "    else:\n",
    "        result = 1\n",
    "    return result"
   ]
  },
  {
   "cell_type": "code",
   "execution_count": 7,
   "metadata": {
    "slideshow": {
     "slide_type": "fragment"
    }
   },
   "outputs": [
    {
     "name": "stdout",
     "output_type": "stream",
     "text": [
      "1\n",
      "2\n",
      "3\n",
      "5\n",
      "8\n",
      "13\n",
      "21\n",
      "34\n",
      "55\n"
     ]
    }
   ],
   "source": [
    "# fibonnaci series\n",
    "for n in range(1,10):\n",
    "    print(my_fibonnaci_function(n))\n",
    "    "
   ]
  },
  {
   "cell_type": "code",
   "execution_count": 8,
   "metadata": {
    "slideshow": {
     "slide_type": "subslide"
    }
   },
   "outputs": [
    {
     "name": "stdout",
     "output_type": "stream",
     "text": [
      "1.0\n",
      "2.0\n",
      "1.5\n",
      "1.6666666666666667\n",
      "1.6\n",
      "1.625\n",
      "1.6153846153846154\n",
      "1.619047619047619\n",
      "1.6176470588235294\n"
     ]
    }
   ],
   "source": [
    "#convergence towards phi:\n",
    "for n in range(1,10):\n",
    "    print(my_fibonnaci_function(n)/my_fibonnaci_function(n-1))"
   ]
  }
 ],
 "metadata": {
  "celltoolbar": "Slideshow",
  "kernelspec": {
   "display_name": "Python 3",
   "language": "python",
   "name": "python3"
  },
  "language_info": {
   "codemirror_mode": {
    "name": "ipython",
    "version": 3
   },
   "file_extension": ".py",
   "mimetype": "text/x-python",
   "name": "python",
   "nbconvert_exporter": "python",
   "pygments_lexer": "ipython3",
   "version": "3.7.1"
  }
 },
 "nbformat": 4,
 "nbformat_minor": 2
}
