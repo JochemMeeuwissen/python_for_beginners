{
 "cells": [
  {
   "cell_type": "markdown",
   "metadata": {
    "slideshow": {
     "slide_type": "slide"
    }
   },
   "source": [
    "##### Python beginners course - chapter 6: classes"
   ]
  },
  {
   "cell_type": "markdown",
   "metadata": {
    "slideshow": {
     "slide_type": "subslide"
    }
   },
   "source": [
    "### The goal of this chapter is to make you familiar with:\n",
    "* classes\n",
    "* class inheritance\n",
    "* `__init__` function\n",
    "* `self` argument"
   ]
  },
  {
   "cell_type": "markdown",
   "metadata": {
    "slideshow": {
     "slide_type": "subslide"
    }
   },
   "source": [
    "### Do you enjoy this `class`?"
   ]
  },
  {
   "cell_type": "markdown",
   "metadata": {
    "slideshow": {
     "slide_type": "fragment"
    }
   },
   "source": [
    "#### classes are python's way of defining objects\n",
    "Classes are useful for creating order in your code. Functions that are related to a common object can be linked to such a class."
   ]
  },
  {
   "cell_type": "code",
   "execution_count": 1,
   "metadata": {
    "slideshow": {
     "slide_type": "fragment"
    }
   },
   "outputs": [],
   "source": [
    "class Car:\n",
    "    '''\n",
    "        The Car object contains information about and functions performed by a car\n",
    "    '''\n",
    "    def describe():\n",
    "        \"\"\"Describe the car\"\"\"\n",
    "        print(\"I am a car\")\n",
    "    pass"
   ]
  },
  {
   "cell_type": "code",
   "execution_count": 2,
   "metadata": {
    "slideshow": {
     "slide_type": "fragment"
    }
   },
   "outputs": [
    {
     "name": "stdout",
     "output_type": "stream",
     "text": [
      "Help on class Car in module __main__:\n",
      "\n",
      "class Car(builtins.object)\n",
      " |  The Car object contains information about and functions performed by a car\n",
      " |  \n",
      " |  Methods defined here:\n",
      " |  \n",
      " |  describe()\n",
      " |      Describe the car\n",
      " |  \n",
      " |  ----------------------------------------------------------------------\n",
      " |  Data descriptors defined here:\n",
      " |  \n",
      " |  __dict__\n",
      " |      dictionary for instance variables (if defined)\n",
      " |  \n",
      " |  __weakref__\n",
      " |      list of weak references to the object (if defined)\n",
      "\n"
     ]
    }
   ],
   "source": [
    "# Passing string docs to the Car class provides \n",
    "# users that call help(Car) with details\n",
    "help(Car)"
   ]
  },
  {
   "cell_type": "code",
   "execution_count": 3,
   "metadata": {
    "slideshow": {
     "slide_type": "fragment"
    }
   },
   "outputs": [
    {
     "name": "stdout",
     "output_type": "stream",
     "text": [
      "I am a car\n"
     ]
    }
   ],
   "source": [
    "#call your class function!\n",
    "Car.describe()"
   ]
  },
  {
   "cell_type": "markdown",
   "metadata": {
    "slideshow": {
     "slide_type": "subslide"
    }
   },
   "source": [
    "#### So far not so interesting, but let's pimp our ride!"
   ]
  },
  {
   "cell_type": "code",
   "execution_count": 4,
   "metadata": {
    "slideshow": {
     "slide_type": "fragment"
    }
   },
   "outputs": [],
   "source": [
    "class Car:\n",
    "    '''\n",
    "        The Car object contains information about and functions performed by a car in 2D space\n",
    "        :param speed: The speed describes the speed of the car in kilometers per hour\n",
    "        :type speed: int\n",
    "        :param angle: The angle describes the angle in which the car is driving relative to a horizontal axis\n",
    "        :type angle: int\n",
    "        :param color: The color is the color of the paintjob of the car\n",
    "        :type color: str\n",
    "        :param max_speed: The max_speed is the maximum speed of the car in kilometers per hour\n",
    "        :type max_speed: int\n",
    "    '''\n",
    "    \n",
    "    def __init__(self, speed=50, angle=0, color=\"red\", max_speed=180):\n",
    "        self.speed = speed\n",
    "        self.angle = angle\n",
    "        self.color = color\n",
    "        self.max_speed = max_speed\n",
    "        \n",
    "    def turn_left(self, angle):\n",
    "        \"\"\"\n",
    "            Change angle of the car left by angle\n",
    "            :param angle: angle by which to turn left\n",
    "        \"\"\"\n",
    "        self.angle = (self.angle - angle)%360\n",
    "        \n",
    "    def turn_right(self, angle):\n",
    "        \"\"\"\n",
    "            Change angle of the car right by angle\n",
    "            :param angle: angle by which to turn left\n",
    "        \"\"\"\n",
    "        self.angle = (self.angle + angle)%360\n",
    "        \n",
    "    def accelerate(self, speed_increase):\n",
    "        \"\"\"\n",
    "            Increase speed of the car by speed_increase, taking into account max_speed\n",
    "            :param speed_increase: kph to increase the speed by\n",
    "        \"\"\"\n",
    "        self.speed = min(self.speed + speed_increase, self.max_speed)\n",
    "    \n",
    "    def brake(self, speed_decrease):\n",
    "        \"\"\"\n",
    "            Decrease speed of the car by speed_decrease, taking into account 0 as minimum speed after braking\n",
    "            :param speed_decrease: kph to decrease the speed by\n",
    "        \"\"\"\n",
    "        self.speed = max(self.speed - speed_decrease, 0)\n",
    "        \n",
    "    def horn(self):\n",
    "        \"\"\"\n",
    "            Make your presence known!\n",
    "        \"\"\"\n",
    "        print(\"tooooot tooooot!\")        "
   ]
  },
  {
   "cell_type": "code",
   "execution_count": 5,
   "metadata": {
    "slideshow": {
     "slide_type": "subslide"
    }
   },
   "outputs": [],
   "source": [
    "#create our own car object and  call it my_car\n",
    "my_car = Car()"
   ]
  },
  {
   "cell_type": "code",
   "execution_count": 6,
   "metadata": {
    "slideshow": {
     "slide_type": "fragment"
    }
   },
   "outputs": [
    {
     "name": "stdout",
     "output_type": "stream",
     "text": [
      "50\n",
      "75\n"
     ]
    }
   ],
   "source": [
    "# lets see what our speed is\n",
    "print(my_car.speed)\n",
    "\n",
    "# now accelerate by 25 km/h\n",
    "\n",
    "my_car.accelerate(25) \n",
    "\n",
    "print(my_car.speed)"
   ]
  },
  {
   "cell_type": "markdown",
   "metadata": {
    "slideshow": {
     "slide_type": "fragment"
    }
   },
   "source": [
    "##### What do you notice?"
   ]
  },
  {
   "cell_type": "markdown",
   "metadata": {
    "slideshow": {
     "slide_type": "subslide"
    }
   },
   "source": [
    "#### But we are not just driving any car."
   ]
  },
  {
   "cell_type": "code",
   "execution_count": 7,
   "metadata": {
    "slideshow": {
     "slide_type": "fragment"
    }
   },
   "outputs": [],
   "source": [
    "class Tesla(Car):\n",
    "    \"\"\"\n",
    "    For the rich people pretending to care about the environment.\n",
    "    \"\"\"\n",
    "    def __init__(self):\n",
    "        self.fuel_type = 'electric'\n",
    "        self.color = 'black'\n",
    "        self.max_speed = 250\n",
    "        self.auto = False\n",
    "        self.speed = 25\n",
    "        self.angle = 180\n",
    "    \n",
    "    def autopilot(self):\n",
    "        \"\"\"\n",
    "        Be aware! Ethical dillema's not resolved.\n",
    "        \"\"\"\n",
    "        if self.auto == False:\n",
    "            self.auto == True\n",
    "            print(\"autopilot turned on\")\n",
    "        elif self.auto == True:\n",
    "            self.auto == False\n",
    "            print(\"autopilot turned off\")    "
   ]
  },
  {
   "cell_type": "code",
   "execution_count": 8,
   "metadata": {
    "slideshow": {
     "slide_type": "subslide"
    }
   },
   "outputs": [
    {
     "name": "stdout",
     "output_type": "stream",
     "text": [
      "black\n",
      "250\n"
     ]
    }
   ],
   "source": [
    "tesla_s = Tesla()\n",
    "\n",
    "print(tesla_s.color)\n",
    "\n",
    "tesla_s.accelerate(350)\n",
    "\n",
    "print(tesla_s.speed)"
   ]
  },
  {
   "cell_type": "markdown",
   "metadata": {
    "slideshow": {
     "slide_type": "fragment"
    }
   },
   "source": [
    "#### What do you notice?"
   ]
  }
 ],
 "metadata": {
  "celltoolbar": "Slideshow",
  "kernelspec": {
   "display_name": "Python 3",
   "language": "python",
   "name": "python3"
  },
  "language_info": {
   "codemirror_mode": {
    "name": "ipython",
    "version": 3
   },
   "file_extension": ".py",
   "mimetype": "text/x-python",
   "name": "python",
   "nbconvert_exporter": "python",
   "pygments_lexer": "ipython3",
   "version": "3.7.1"
  }
 },
 "nbformat": 4,
 "nbformat_minor": 2
}
