{
 "cells": [
  {
   "cell_type": "markdown",
   "metadata": {
    "slideshow": {
     "slide_type": "slide"
    }
   },
   "source": [
    "## Python beginners course - chapter 4: if statements and loops"
   ]
  },
  {
   "cell_type": "markdown",
   "metadata": {
    "slideshow": {
     "slide_type": "subslide"
    }
   },
   "source": [
    "### The goal of this chapter is to make you familiar with:\n",
    "* if statements\n",
    "* for loops\n",
    "* while loops\n",
    "* list comprehensions\n",
    "* dict comprehensions"
   ]
  },
  {
   "cell_type": "markdown",
   "metadata": {
    "slideshow": {
     "slide_type": "subslide"
    }
   },
   "source": [
    "#### `if` you don't practice:  you won't learn"
   ]
  },
  {
   "cell_type": "code",
   "execution_count": 1,
   "metadata": {
    "slideshow": {
     "slide_type": "fragment"
    }
   },
   "outputs": [
    {
     "name": "stdout",
     "output_type": "stream",
     "text": [
      "Ain't no party like a pythonic party\n"
     ]
    }
   ],
   "source": [
    "# print statements can be made multiline using indents\n",
    "x = 3\n",
    "if x > 0:\n",
    "    print(\"Ain't no party like a pythonic party\")\n",
    "else:\n",
    "    print(\"0-0\")"
   ]
  },
  {
   "cell_type": "code",
   "execution_count": 2,
   "metadata": {
    "slideshow": {
     "slide_type": "fragment"
    }
   },
   "outputs": [
    {
     "name": "stdout",
     "output_type": "stream",
     "text": [
      "whoozaa\n"
     ]
    }
   ],
   "source": [
    "# or inline\n",
    "print(\"whoozaa\") if x-3==0 else None"
   ]
  },
  {
   "cell_type": "markdown",
   "metadata": {
    "slideshow": {
     "slide_type": "subslide"
    }
   },
   "source": [
    "#### Are you `for` real?\n",
    "\n",
    "Just like if statements, multiline for loops require indents."
   ]
  },
  {
   "cell_type": "code",
   "execution_count": 3,
   "metadata": {
    "slideshow": {
     "slide_type": "fragment"
    }
   },
   "outputs": [
    {
     "name": "stdout",
     "output_type": "stream",
     "text": [
      "e\n",
      "e\n",
      "e\n",
      "e\n",
      "i\n",
      "e\n"
     ]
    }
   ],
   "source": [
    "guilty_pleasure = 'The eye of the tiger'\n",
    "\n",
    "for i in guilty_pleasure:\n",
    "    if i in ('e','i'):\n",
    "        print(i)"
   ]
  },
  {
   "cell_type": "code",
   "execution_count": 4,
   "metadata": {
    "slideshow": {
     "slide_type": "fragment"
    }
   },
   "outputs": [
    {
     "name": "stdout",
     "output_type": "stream",
     "text": [
      "The capital of Japan is Tokyo\n",
      "The capital of Denmark is Copenhagen\n",
      "The capital of Colombia is Bogota\n"
     ]
    }
   ],
   "source": [
    "countries = {\n",
    "    'Japan': 'Tokyo',\n",
    "    'Denmark': 'Copenhagen',\n",
    "    'Colombia': 'Bogota'\n",
    "}\n",
    "\n",
    "for k,v in countries.items():\n",
    "    print(f\"The capital of {k} is {v}\")"
   ]
  },
  {
   "cell_type": "code",
   "execution_count": 5,
   "metadata": {
    "slideshow": {
     "slide_type": "subslide"
    }
   },
   "outputs": [
    {
     "name": "stdout",
     "output_type": "stream",
     "text": [
      "0: Japan\n",
      "1: Denmark\n",
      "2: Colombia\n"
     ]
    }
   ],
   "source": [
    "# You can also loop over list indexes and values at the same time!\n",
    "\n",
    "for i, val in enumerate(countries):\n",
    "    print(f\"{i}: {val}\")"
   ]
  },
  {
   "cell_type": "markdown",
   "metadata": {
    "slideshow": {
     "slide_type": "subslide"
    }
   },
   "source": [
    "#### `while` you're at it..."
   ]
  },
  {
   "cell_type": "code",
   "execution_count": 6,
   "metadata": {
    "slideshow": {
     "slide_type": "fragment"
    }
   },
   "outputs": [
    {
     "name": "stdout",
     "output_type": "stream",
     "text": [
      "6 more time(s), then I'm finally done.\n",
      "5 more time(s), then I'm finally done.\n",
      "4 more time(s), then I'm finally done.\n",
      "3 more time(s), then I'm finally done.\n",
      "2 more time(s), then I'm finally done.\n",
      "1 more time(s), then I'm finally done.\n"
     ]
    }
   ],
   "source": [
    "y = 6\n",
    "\n",
    "x = 0\n",
    "while x < y:\n",
    "    print(f\"{y-x} more time(s), then I'm finally done.\")\n",
    "    x = x+1"
   ]
  },
  {
   "cell_type": "markdown",
   "metadata": {
    "slideshow": {
     "slide_type": "subslide"
    }
   },
   "source": [
    "#### List comprehensions: extremely powerful, it's true "
   ]
  },
  {
   "cell_type": "code",
   "execution_count": 7,
   "metadata": {
    "slideshow": {
     "slide_type": "fragment"
    }
   },
   "outputs": [
    {
     "name": "stdout",
     "output_type": "stream",
     "text": [
      "['e', 'e', 'e', 'e', 'i', 'e']\n"
     ]
    }
   ],
   "source": [
    "your_list = [e for e in guilty_pleasure if e in ('e','i')]\n",
    "\n",
    "print(your_list)"
   ]
  },
  {
   "cell_type": "markdown",
   "metadata": {
    "slideshow": {
     "slide_type": "fragment"
    }
   },
   "source": [
    "##### All that in just one clean line!"
   ]
  },
  {
   "cell_type": "markdown",
   "metadata": {
    "slideshow": {
     "slide_type": "subslide"
    }
   },
   "source": [
    "#### Similarly, dictionary comprehensions rock too!"
   ]
  },
  {
   "cell_type": "code",
   "execution_count": 9,
   "metadata": {
    "slideshow": {
     "slide_type": "fragment"
    }
   },
   "outputs": [
    {
     "name": "stdout",
     "output_type": "stream",
     "text": [
      "{'Colombia': 'Bogota'}\n"
     ]
    }
   ],
   "source": [
    "# create a dictionary with all countries from my_dict with a name length of more than 7 letters.\n",
    "your_dict = {k:v for k,v in countries.items() if len(k)>7}\n",
    "\n",
    "print(your_dict)"
   ]
  }
 ],
 "metadata": {
  "celltoolbar": "Slideshow",
  "kernelspec": {
   "display_name": "Python 3",
   "language": "python",
   "name": "python3"
  },
  "language_info": {
   "codemirror_mode": {
    "name": "ipython",
    "version": 3
   },
   "file_extension": ".py",
   "mimetype": "text/x-python",
   "name": "python",
   "nbconvert_exporter": "python",
   "pygments_lexer": "ipython3",
   "version": "3.7.1"
  }
 },
 "nbformat": 4,
 "nbformat_minor": 2
}
