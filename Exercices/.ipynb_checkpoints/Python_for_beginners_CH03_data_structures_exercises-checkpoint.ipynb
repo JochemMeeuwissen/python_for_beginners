{
 "cells": [
  {
   "cell_type": "markdown",
   "metadata": {},
   "source": [
    "### Chapter 3 exercises: Data structures"
   ]
  },
  {
   "cell_type": "markdown",
   "metadata": {},
   "source": [
    "#### List exercises"
   ]
  },
  {
   "cell_type": "code",
   "execution_count": 1,
   "metadata": {},
   "outputs": [],
   "source": [
    "# create a new list from list_1 and list_2 and call it my_list\n",
    "list_1 = ['if','you','want','loyalty']\n",
    "list_2 = ['hire','a','cocker', 'spaniel']"
   ]
  },
  {
   "cell_type": "code",
   "execution_count": 4,
   "metadata": {},
   "outputs": [],
   "source": [
    "# from my_list, replace loyalty with affection and cocker spaniel with labrador"
   ]
  },
  {
   "cell_type": "code",
   "execution_count": 8,
   "metadata": {},
   "outputs": [],
   "source": [
    "# make one string out of my_list with each word seperated by a space (using google is no sin!)."
   ]
  },
  {
   "cell_type": "markdown",
   "metadata": {},
   "source": [
    "#### Tuple exercises"
   ]
  },
  {
   "cell_type": "code",
   "execution_count": 14,
   "metadata": {},
   "outputs": [],
   "source": [
    "# create a tuple from tup_1 and tup_2 and call it my_tup\n",
    "tup_1 = ('\"','I','love','my','alarm','clock','\"')\n",
    "tup_2 = ('no','one','ever','said')"
   ]
  },
  {
   "cell_type": "code",
   "execution_count": 19,
   "metadata": {},
   "outputs": [],
   "source": [
    "# exchange values of x1 and x2 using tuples\n",
    "x1 = 3\n",
    "x2 = 4\n"
   ]
  },
  {
   "cell_type": "markdown",
   "metadata": {},
   "source": [
    "#### Dictionary exercises"
   ]
  },
  {
   "cell_type": "code",
   "execution_count": 20,
   "metadata": {},
   "outputs": [],
   "source": [
    "# create a dictionary with keys book, food and artist and put your relative favorites in as values"
   ]
  },
  {
   "cell_type": "code",
   "execution_count": 21,
   "metadata": {},
   "outputs": [],
   "source": [
    "# using the get method, try to obtain the favorite drink from the dictionary, \n",
    "# with 'beer' as default, because, well you know, we all love beer."
   ]
  },
  {
   "cell_type": "code",
   "execution_count": 22,
   "metadata": {},
   "outputs": [],
   "source": [
    "# obtain the name of the prime minister of the Netherlands for the country_dict\n",
    "country_dict = {\n",
    "    'France' : {\n",
    "        'prime minister' : 'Emmanuele Macron',\n",
    "        'capital' : 'Paris',\n",
    "        'flag colors': ['red','white','blue'],\n",
    "        'most famous export product': 'Bordeaux wine'\n",
    "    },\n",
    "    'Germany' : {\n",
    "        'prime minister' : 'Angela Merkel',\n",
    "        'capital' : 'Muenchen',\n",
    "        'flag colors': ['black','yellow','red'],\n",
    "        'most famous export product': 'cars'\n",
    "    },\n",
    "    'The Netherlands' : {\n",
    "        'prime minister' : 'Mark Rutte',\n",
    "        'capital' : 'Amsterdam',\n",
    "        'flag colors': ['red','white','blue'],\n",
    "        'most famous export product': 'xtc'\n",
    "    }\n",
    "}"
   ]
  },
  {
   "cell_type": "code",
   "execution_count": 24,
   "metadata": {},
   "outputs": [],
   "source": [
    "# change the capital of Germany into the correct one"
   ]
  },
  {
   "cell_type": "markdown",
   "metadata": {},
   "source": [
    "#### Set exercises"
   ]
  },
  {
   "cell_type": "code",
   "execution_count": 30,
   "metadata": {},
   "outputs": [],
   "source": [
    "benelux_set = {'Belgium','The Netherlands','Luxembourg'}"
   ]
  },
  {
   "cell_type": "code",
   "execution_count": 26,
   "metadata": {},
   "outputs": [],
   "source": [
    "# check which countries of country_dict are included in the benelux_set"
   ]
  },
  {
   "cell_type": "code",
   "execution_count": 27,
   "metadata": {},
   "outputs": [],
   "source": [
    "# create a new set by adding the countries of country_dict to benelux_set"
   ]
  },
  {
   "cell_type": "code",
   "execution_count": null,
   "metadata": {},
   "outputs": [],
   "source": [
    "# get the countries that are in both sets"
   ]
  },
  {
   "cell_type": "code",
   "execution_count": null,
   "metadata": {},
   "outputs": [],
   "source": [
    "# get all countries except those who are in both sets"
   ]
  }
 ],
 "metadata": {
  "kernelspec": {
   "display_name": "Python 3",
   "language": "python",
   "name": "python3"
  },
  "language_info": {
   "codemirror_mode": {
    "name": "ipython",
    "version": 3
   },
   "file_extension": ".py",
   "mimetype": "text/x-python",
   "name": "python",
   "nbconvert_exporter": "python",
   "pygments_lexer": "ipython3",
   "version": "3.7.1"
  }
 },
 "nbformat": 4,
 "nbformat_minor": 2
}
