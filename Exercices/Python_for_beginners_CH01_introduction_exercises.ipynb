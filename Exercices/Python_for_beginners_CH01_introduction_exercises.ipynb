{
 "cells": [
  {
   "cell_type": "markdown",
   "metadata": {},
   "source": [
    "### These exercices are all about getting started and getting familiar with Jupyter"
   ]
  },
  {
   "cell_type": "code",
   "execution_count": 1,
   "metadata": {},
   "outputs": [],
   "source": [
    "##### this is not in a nice markdown format like the cell above. Can you get this cell into markdown format as well?"
   ]
  },
  {
   "cell_type": "markdown",
   "metadata": {},
   "source": [
    "### Running a cell can be done in three ways:\n",
    "\n",
    "1. Using the menu toolbar button  >| Run\n",
    "2. Pressing ctrl + Shift (Or command + shift on Mac)\n",
    "3. Pressing ctrl + Enter (Or command + Enter on Mac)\n",
    "\n",
    "Can you tell the difference between options 2 and 3?"
   ]
  },
  {
   "cell_type": "markdown",
   "metadata": {},
   "source": [
    "### Change the code below such that the latest logo of Python is shown"
   ]
  },
  {
   "cell_type": "code",
   "execution_count": 1,
   "metadata": {},
   "outputs": [
    {
     "data": {
      "text/html": [
       "<img src=\"https://upload.wikimedia.org/wikipedia/commons/thumb/7/72/Python_logo_1990s.svg/2880px-Python_logo_1990s.svg.png\"/>"
      ],
      "text/plain": [
       "<IPython.core.display.Image object>"
      ]
     },
     "execution_count": 1,
     "metadata": {},
     "output_type": "execute_result"
    }
   ],
   "source": [
    "from IPython.display import Image\n",
    "from IPython.core.display import HTML \n",
    "Image(url= \"https://upload.wikimedia.org/wikipedia/commons/thumb/7/72/Python_logo_1990s.svg/2880px-Python_logo_1990s.svg.png\")"
   ]
  },
  {
   "cell_type": "markdown",
   "metadata": {},
   "source": [
    "### All python programmers have one mutual friend: StackOverflow\n",
    "Everyone uses it, no matter how experienced the person is.\n",
    "By consulting StackOverflow, find out how to have Jupyter return the python version you are working in"
   ]
  },
  {
   "cell_type": "code",
   "execution_count": null,
   "metadata": {},
   "outputs": [],
   "source": []
  },
  {
   "cell_type": "markdown",
   "metadata": {},
   "source": [
    "### Finally, lets learn how to install packages\n",
    "\n",
    "Packages can be imported using the \"import\" command. Trying to import a package that is not installed, will raise an error.\n",
    "\n",
    "Let's try to import the xgboost module, which provides one of the most powerful machine learning techniques"
   ]
  },
  {
   "cell_type": "code",
   "execution_count": 9,
   "metadata": {},
   "outputs": [],
   "source": [
    "import xgboost"
   ]
  },
  {
   "cell_type": "markdown",
   "metadata": {},
   "source": [
    "### In case an error pops up, the package needs to be installed.\n",
    "Installing package can be done using \"pip\" in the terminal. Now is the time to use your CLI, or simply go to Jupyter's build in terminal, and type \n",
    "\n",
    "`pip install xgboost`\n",
    "    \n"
   ]
  },
  {
   "cell_type": "code",
   "execution_count": null,
   "metadata": {},
   "outputs": [],
   "source": []
  }
 ],
 "metadata": {
  "kernelspec": {
   "display_name": "Python 3",
   "language": "python",
   "name": "python3"
  },
  "language_info": {
   "codemirror_mode": {
    "name": "ipython",
    "version": 3
   },
   "file_extension": ".py",
   "mimetype": "text/x-python",
   "name": "python",
   "nbconvert_exporter": "python",
   "pygments_lexer": "ipython3",
   "version": "3.7.1"
  }
 },
 "nbformat": 4,
 "nbformat_minor": 2
}
