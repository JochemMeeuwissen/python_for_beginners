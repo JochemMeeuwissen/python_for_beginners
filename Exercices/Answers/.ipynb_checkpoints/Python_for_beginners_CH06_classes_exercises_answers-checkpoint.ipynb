{
 "cells": [
  {
   "cell_type": "markdown",
   "metadata": {},
   "source": [
    "### Chapter 6 exercises: classes"
   ]
  },
  {
   "cell_type": "markdown",
   "metadata": {},
   "source": [
    "#### Time for some fun:\n",
    "We have built a Tank object that fires canonball objects. You have two tasks:\n",
    "1. Change the angle of the tank in such a way that you end up hitting the target\n",
    "2. Add wind to this game, with speed in either the positive or negative x-direction and make sure the canonball's path is affected by this wind. This wind is normally distributed with mean 0 m/s and sigma 30 m/s and changes every minute "
   ]
  },
  {
   "cell_type": "code",
   "execution_count": 1,
   "metadata": {},
   "outputs": [],
   "source": [
    "import numpy as np\n",
    "import datetime as dt\n",
    "import matplotlib.pyplot as plt"
   ]
  },
  {
   "cell_type": "code",
   "execution_count": 2,
   "metadata": {},
   "outputs": [],
   "source": [
    "class Tank:\n",
    "    \n",
    "    def __init__(self):\n",
    "        self.angle=45\n",
    "        self.pos = [0,0]\n",
    "        self.image = {}\n",
    "        self.power =  300\n",
    "        self.target = [np.random.randint(0,10000),0]\n",
    "        self.time = dt.datetime.now()\n",
    "        self.wind_speed = np.random.normal(0,30)\n",
    "        \n",
    "    def change_angle(self, new_angle):\n",
    "        self.angle =  new_angle\n",
    "        \n",
    "    \n",
    "    def change_target(self):\n",
    "        self.target = [np.random.randint(0,10000),0]\n",
    "            \n",
    "    def move(self,x):\n",
    "        self.pos[0] = self.pos[0]+x\n",
    "    \n",
    "    def update_wind(self):\n",
    "        new_time = dt.datetime.now()\n",
    "        if (new_time - self.time).seconds > 3600:\n",
    "            self.wind_speed = np.random.normal(0,30)\n",
    "            self.time  = new_time\n",
    "        \n",
    "    def fire(self):\n",
    "        self.update_wind()\n",
    "        canonball = Canonball().fire(self.pos, self.angle, self.power, self.target, self.wind_speed)\n",
    "        return canonball"
   ]
  },
  {
   "cell_type": "code",
   "execution_count": 3,
   "metadata": {},
   "outputs": [],
   "source": [
    "class Canonball:\n",
    "    \n",
    "    def __init__(self):\n",
    "        self.size = 5\n",
    "        self.mass = 10\n",
    "        self.acceleration  = (0,-9.81)\n",
    "        self.speed = [0,0]\n",
    "        self.pos = [0,0]\n",
    "        self.fired = 0\n",
    "        \n",
    "    def fire(self, pos, angle, power, target, wind_speed):\n",
    "        self.pos = pos\n",
    "        self.speed  = [np.cos(2*np.pi*angle/360)*power + wind_speed, np.sin(2*np.pi*angle/360)*power]\n",
    "        self.target = target\n",
    "        self.fired = 1\n",
    "        return self\n",
    "    \n",
    "    def balistic_path(self):\n",
    "        if self.fired==1:\n",
    "            airtime = (-self.speed[1]/self.acceleration[1]) + np.sqrt(\n",
    "                (self.speed[1]**2-2*self.pos[1]*self.acceleration[1])/self.acceleration[1]**2\n",
    "            )\n",
    "            t = np.linspace(0,airtime,100)\n",
    "            x = np.zeros(len(t))\n",
    "            y = np.zeros(len(t))\n",
    "            for i, j in enumerate(t):\n",
    "                x[i]  = self.pos[0]+self.speed[0]*j+0.5*self.acceleration[0]*(j**2)\n",
    "                y[i] = self.pos[1]+self.speed[1]*j+0.5*self.acceleration[1]*(j**2)\n",
    "            plt.xlabel('distance (m)')\n",
    "            plt.ylabel('height (m)')\n",
    "            plt.plot(self.target[0], self.target[1], marker='x', markerfacecolor='red', label='target',linewidth=0)\n",
    "            plt.plot(self.pos[0], self.pos[1], marker='o', markerfacecolor='green', label='tank', linewidth=0)\n",
    "            plt.plot(x,y, color='skyblue', label = 'canonball path')   \n",
    "            plt.legend()\n",
    "            message = \"You've hit the target!\" if np.linalg.norm(self.target-np.array([x[-1],y[-1]]))<25 else \"You've missed the target\"\n",
    "            plt.title(message)\n",
    "            return plt.show()\n"
   ]
  },
  {
   "cell_type": "code",
   "execution_count": 4,
   "metadata": {},
   "outputs": [],
   "source": [
    "my_tank = Tank()"
   ]
  },
  {
   "cell_type": "code",
   "execution_count": 12,
   "metadata": {},
   "outputs": [
    {
     "name": "stdout",
     "output_type": "stream",
     "text": [
      "The current wind speed is -26.965190391690474.\n"
     ]
    },
    {
     "data": {
      "image/png": "[encoded data removed]",
      "text/plain": [
       "<Figure size 432x288 with 1 Axes>"
      ]
     },
     "metadata": {
      "needs_background": "light"
     },
     "output_type": "display_data"
    }
   ],
   "source": [
    "print(f'The current wind speed is {my_tank.wind_speed}.')\n",
    "my_tank.change_angle(75.8)\n",
    "canonball = my_tank.fire()\n",
    "canonball.balistic_path()"
   ]
  },
  {
   "cell_type": "code",
   "execution_count": null,
   "metadata": {},
   "outputs": [],
   "source": []
  }
 ],
 "metadata": {
  "kernelspec": {
   "display_name": "Python 3",
   "language": "python",
   "name": "python3"
  },
  "language_info": {
   "codemirror_mode": {
    "name": "ipython",
    "version": 3
   },
   "file_extension": ".py",
   "mimetype": "text/x-python",
   "name": "python",
   "nbconvert_exporter": "python",
   "pygments_lexer": "ipython3",
   "version": "3.7.1"
  }
 },
 "nbformat": 4,
 "nbformat_minor": 2
}
