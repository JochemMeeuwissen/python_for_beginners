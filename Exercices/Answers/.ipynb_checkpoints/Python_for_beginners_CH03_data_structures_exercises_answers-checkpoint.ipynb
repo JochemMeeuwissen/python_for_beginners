{
 "cells": [
  {
   "cell_type": "markdown",
   "metadata": {},
   "source": [
    "### Chapter 3 exercises: Data structures"
   ]
  },
  {
   "cell_type": "markdown",
   "metadata": {},
   "source": [
    "#### List exercises"
   ]
  },
  {
   "cell_type": "code",
   "execution_count": 2,
   "metadata": {},
   "outputs": [],
   "source": [
    "# create a new list from list_1 and list_2 and call it my_list\n",
    "list_1 = ['if','you','want','loyalty']\n",
    "list_2 = ['hire','a','cocker', 'spaniel']\n",
    "\n",
    "my_list = list_1 + list_2"
   ]
  },
  {
   "cell_type": "code",
   "execution_count": 3,
   "metadata": {},
   "outputs": [
    {
     "name": "stdout",
     "output_type": "stream",
     "text": [
      "['if', 'you', 'want', 'affection', 'hire', 'a', 'labrador']\n"
     ]
    }
   ],
   "source": [
    "# from my_list, replace loyalty with affection and cocker spaniel with labrador\n",
    "my_list[3]='affection'\n",
    "my_list[6]='labrador'\n",
    "my_list.remove('spaniel')\n",
    "\n",
    "print(my_list)"
   ]
  },
  {
   "cell_type": "code",
   "execution_count": 4,
   "metadata": {},
   "outputs": [
    {
     "name": "stdout",
     "output_type": "stream",
     "text": [
      "if you want affection hire a labrador\n"
     ]
    }
   ],
   "source": [
    "# make one string out of my_list with each word seperated by a space (using google is no sin!).\n",
    "print(' '.join(my_list))"
   ]
  },
  {
   "cell_type": "markdown",
   "metadata": {},
   "source": [
    "#### Tuple exercises"
   ]
  },
  {
   "cell_type": "code",
   "execution_count": 5,
   "metadata": {},
   "outputs": [],
   "source": [
    "# create a tuple from tup_1 and tup_2 and call it my_tup\n",
    "tup_1 = ('\"','I','love','my','alarm','clock','\"')\n",
    "tup_2 = ('no','one','ever','said')\n",
    "\n",
    "my_tup = tup_1 + tup_2"
   ]
  },
  {
   "cell_type": "code",
   "execution_count": 7,
   "metadata": {},
   "outputs": [
    {
     "name": "stdout",
     "output_type": "stream",
     "text": [
      "4 3\n"
     ]
    }
   ],
   "source": [
    "# exchange values of x1 and x2 using tuples\n",
    "x1 = 3\n",
    "x2 = 4\n",
    "\n",
    "(x2, x1) = (x1, x2)\n",
    "\n",
    "print(x1,x2)"
   ]
  },
  {
   "cell_type": "markdown",
   "metadata": {},
   "source": [
    "#### Dictionary exercises"
   ]
  },
  {
   "cell_type": "code",
   "execution_count": 8,
   "metadata": {},
   "outputs": [],
   "source": [
    "# create a dictionary with keys book, food and artist and put your relative favorites in as values\n",
    "my_dict = {\n",
    "    'book':'Liars Poker - Michael Lewis',\n",
    "    'food':'Pizza',\n",
    "    'artist':'Justin Bieber'\n",
    "}"
   ]
  },
  {
   "cell_type": "code",
   "execution_count": 9,
   "metadata": {},
   "outputs": [
    {
     "data": {
      "text/plain": [
       "'beer'"
      ]
     },
     "execution_count": 9,
     "metadata": {},
     "output_type": "execute_result"
    }
   ],
   "source": [
    "# using the get method, try to obtain the favorite drink from the dictionary, \n",
    "# with 'beer' as default, because, well you know, we all love beer.\n",
    "my_dict.get('drink','beer')"
   ]
  },
  {
   "cell_type": "code",
   "execution_count": 10,
   "metadata": {},
   "outputs": [],
   "source": [
    "# obtain the name of the prime minister of the Netherlands for the country_dict\n",
    "country_dict = {\n",
    "    'France' : {\n",
    "        'prime minister' : 'Emmanuele Macron',\n",
    "        'capital' : 'Paris',\n",
    "        'flag colors': ['red','white','blue'],\n",
    "        'most famous export product': 'Bordeaux wine'\n",
    "    },\n",
    "    'Germany' : {\n",
    "        'prime minister' : 'Angela Merkel',\n",
    "        'capital' : 'Muenchen',\n",
    "        'flag colors': ['black','yellow','red'],\n",
    "        'most famous export product': 'cars'\n",
    "    },\n",
    "    'The Netherlands' : {\n",
    "        'prime minister' : 'Mark Rutte',\n",
    "        'capital' : 'Amsterdam',\n",
    "        'flag colors': ['red','white','blue'],\n",
    "        'most famous export product': 'xtc'\n",
    "    }\n",
    "}"
   ]
  },
  {
   "cell_type": "code",
   "execution_count": 11,
   "metadata": {},
   "outputs": [
    {
     "data": {
      "text/plain": [
       "'Mark Rutte'"
      ]
     },
     "execution_count": 11,
     "metadata": {},
     "output_type": "execute_result"
    }
   ],
   "source": [
    "country_dict.get('The Netherlands','invalid country').get('prime minister','invalid key')"
   ]
  },
  {
   "cell_type": "code",
   "execution_count": 12,
   "metadata": {},
   "outputs": [],
   "source": [
    "# change the capital of Germany into the correct one\n",
    "country_dict['Germany']['capital']='Berlin'"
   ]
  },
  {
   "cell_type": "markdown",
   "metadata": {},
   "source": [
    "#### Set exercises"
   ]
  },
  {
   "cell_type": "code",
   "execution_count": 15,
   "metadata": {},
   "outputs": [],
   "source": [
    "benelux_set = {'Belgium','The Netherlands','Luxembourg'}"
   ]
  },
  {
   "cell_type": "code",
   "execution_count": 19,
   "metadata": {},
   "outputs": [
    {
     "name": "stdout",
     "output_type": "stream",
     "text": [
      "{'France', 'The Netherlands', 'Luxembourg', 'Belgium', 'Germany'}\n"
     ]
    }
   ],
   "source": [
    "# create a new set by adding the countries of country_dict to benelux_set\n",
    "country_set = set(country_dict.keys())\n",
    "new_set = country_set.union(benelux_set)\n",
    "\n",
    "print(new_set)"
   ]
  },
  {
   "cell_type": "code",
   "execution_count": 20,
   "metadata": {},
   "outputs": [
    {
     "data": {
      "text/plain": [
       "{'The Netherlands'}"
      ]
     },
     "execution_count": 20,
     "metadata": {},
     "output_type": "execute_result"
    }
   ],
   "source": [
    "# get the countries that are in both sets\n",
    "country_set.intersection(benelux_set)"
   ]
  },
  {
   "cell_type": "code",
   "execution_count": 21,
   "metadata": {},
   "outputs": [
    {
     "data": {
      "text/plain": [
       "{'Belgium', 'France', 'Germany', 'Luxembourg'}"
      ]
     },
     "execution_count": 21,
     "metadata": {},
     "output_type": "execute_result"
    }
   ],
   "source": [
    "# get all countries except those who are in both sets\n",
    "new_set-country_set.intersection(benelux_set)"
   ]
  }
 ],
 "metadata": {
  "kernelspec": {
   "display_name": "Python 3",
   "language": "python",
   "name": "python3"
  },
  "language_info": {
   "codemirror_mode": {
    "name": "ipython",
    "version": 3
   },
   "file_extension": ".py",
   "mimetype": "text/x-python",
   "name": "python",
   "nbconvert_exporter": "python",
   "pygments_lexer": "ipython3",
   "version": "3.7.1"
  }
 },
 "nbformat": 4,
 "nbformat_minor": 2
}
