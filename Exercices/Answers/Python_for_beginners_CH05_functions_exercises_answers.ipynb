{
 "cells": [
  {
   "cell_type": "markdown",
   "metadata": {},
   "source": [
    "### Chapter 5 exercises: functions"
   ]
  },
  {
   "cell_type": "markdown",
   "metadata": {},
   "source": [
    "#### Write a function that takes a string as input and returns a string:\n",
    "* return the string as a question if the input is no question\n",
    "* respond with \"computer says no\" if the input is a question"
   ]
  },
  {
   "cell_type": "code",
   "execution_count": 11,
   "metadata": {},
   "outputs": [],
   "source": [
    "def useless_response(input_string):\n",
    "    if '?' in input_string:\n",
    "        response = 'Computer says no'\n",
    "    else:\n",
    "        if input_string[-1].isalnum():\n",
    "            response = input_string+'?'\n",
    "        else:\n",
    "            response = input_string[:-1]+'?'\n",
    "    return response"
   ]
  },
  {
   "cell_type": "code",
   "execution_count": 12,
   "metadata": {},
   "outputs": [
    {
     "name": "stdout",
     "output_type": "stream",
     "text": [
      "Computer says no\n",
      "Trump wants to build a wall?\n"
     ]
    }
   ],
   "source": [
    "print(useless_response('Am I still a python newbie?'))\n",
    "print(useless_response('Trump wants to build a wall.'))"
   ]
  },
  {
   "cell_type": "markdown",
   "metadata": {},
   "source": [
    "#### Write a recursive function that:\n",
    "* adds (-1) to the power n, times n, to the previous result "
   ]
  },
  {
   "cell_type": "code",
   "execution_count": 16,
   "metadata": {},
   "outputs": [],
   "source": [
    "def this_recursive_func(n):\n",
    "    if n>0:\n",
    "        result = n*(-1)**n+this_recursive_func(n-1)\n",
    "    else:\n",
    "        result = 0\n",
    "    return result"
   ]
  },
  {
   "cell_type": "code",
   "execution_count": 17,
   "metadata": {},
   "outputs": [
    {
     "name": "stdout",
     "output_type": "stream",
     "text": [
      "-1\n",
      "1\n",
      "-2\n",
      "2\n",
      "-3\n",
      "3\n",
      "-4\n",
      "4\n",
      "-5\n"
     ]
    }
   ],
   "source": [
    "for n in range(1,10):\n",
    "    print(this_recursive_func(n))"
   ]
  }
 ],
 "metadata": {
  "kernelspec": {
   "display_name": "Python 3",
   "language": "python",
   "name": "python3"
  },
  "language_info": {
   "codemirror_mode": {
    "name": "ipython",
    "version": 3
   },
   "file_extension": ".py",
   "mimetype": "text/x-python",
   "name": "python",
   "nbconvert_exporter": "python",
   "pygments_lexer": "ipython3",
   "version": "3.7.1"
  }
 },
 "nbformat": 4,
 "nbformat_minor": 2
}
