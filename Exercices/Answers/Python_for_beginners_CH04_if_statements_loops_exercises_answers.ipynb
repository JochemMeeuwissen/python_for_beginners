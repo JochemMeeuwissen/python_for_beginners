{
 "cells": [
  {
   "cell_type": "markdown",
   "metadata": {},
   "source": [
    "### Chapter 4 exercises: if statements and loops"
   ]
  },
  {
   "cell_type": "markdown",
   "metadata": {},
   "source": [
    "#### It's time for a larger exercise: model the development of a knab quarterly savings account\n",
    "At the knab quarterly savings account one receives regular interest, which is paid out each quarter and bonus interest over the amount that has remained on the account over the entire quarter."
   ]
  },
  {
   "cell_type": "markdown",
   "metadata": {},
   "source": [
    "##### Model the development of an account with €5000 as primary deposit as of 1 January 2019, the start of the quarter.\n",
    "* Every month, on the first of the month, another €500 is added\n",
    "* The quarters start on the first of January, April, July and October. Money deposited on these days is included for the bonus interest. Interest is paid on these days as well.\n",
    "* The basic interest rate is 10 basis points (annual rate)\n",
    "* The bonus interest rate is 15 basis points (annual rate)\n",
    "\n"
   ]
  },
  {
   "cell_type": "code",
   "execution_count": 1,
   "metadata": {},
   "outputs": [],
   "source": [
    "# Q1: What is the amount of money at 1 January 2024 (including interest payment made that day)"
   ]
  },
  {
   "cell_type": "code",
   "execution_count": 2,
   "metadata": {},
   "outputs": [],
   "source": [
    "# Q2: Print the amount of money every 1st of July and 1st of January until end of 2024"
   ]
  },
  {
   "cell_type": "code",
   "execution_count": 3,
   "metadata": {},
   "outputs": [],
   "source": [
    "import datetime as dt"
   ]
  },
  {
   "cell_type": "code",
   "execution_count": 4,
   "metadata": {},
   "outputs": [],
   "source": [
    "start_date = dt.date(2019, 1, 1)\n",
    "end_date = dt.date(2024, 1, 1)\n",
    "first_deposit = 5000\n",
    "monthly_deposit = 500\n",
    "monthly_base_interest = .10 / 100 / 12\n",
    "quarterly_bonus_interest = .15 / 100 * 3 / 12"
   ]
  },
  {
   "cell_type": "code",
   "execution_count": 5,
   "metadata": {},
   "outputs": [],
   "source": [
    "s = \"{c}: start: € {s:>8.2f} + deposit: € {d:>4} + base: € {base:>7.2f} + bonus: € {bonus:>7.2f} = new_balance: € {nb:>8.2f}\""
   ]
  },
  {
   "cell_type": "code",
   "execution_count": 6,
   "metadata": {},
   "outputs": [
    {
     "name": "stdout",
     "output_type": "stream",
     "text": [
      "2019-01-01: start: €     0.00 + deposit: € 5000 + base: €    0.00 + bonus: €    0.00 = new_balance: €  5000.00\n",
      "2019-02-01: start: €  5000.00 + deposit: €  500 + base: €    0.00 + bonus: €    0.00 = new_balance: €  5500.00\n",
      "2019-03-01: start: €  5500.00 + deposit: €  500 + base: €    0.00 + bonus: €    0.00 = new_balance: €  6000.00\n",
      "2019-04-01: start: €  6000.00 + deposit: €  500 + base: €    1.38 + bonus: €    1.88 = new_balance: €  6503.25\n",
      "2019-05-01: start: €  6503.25 + deposit: €  500 + base: €    0.00 + bonus: €    0.00 = new_balance: €  7003.25\n",
      "2019-06-01: start: €  7003.25 + deposit: €  500 + base: €    0.00 + bonus: €    0.00 = new_balance: €  7503.25\n",
      "2019-07-01: start: €  7503.25 + deposit: €  500 + base: €    1.75 + bonus: €    2.44 = new_balance: €  8007.44\n",
      "2019-08-01: start: €  8007.44 + deposit: €  500 + base: €    0.00 + bonus: €    0.00 = new_balance: €  8507.44\n",
      "2019-09-01: start: €  8507.44 + deposit: €  500 + base: €    0.00 + bonus: €    0.00 = new_balance: €  9007.44\n",
      "2019-10-01: start: €  9007.44 + deposit: €  500 + base: €    2.13 + bonus: €    3.00 = new_balance: €  9512.57\n",
      "2019-11-01: start: €  9512.57 + deposit: €  500 + base: €    0.00 + bonus: €    0.00 = new_balance: € 10012.57\n",
      "2019-12-01: start: € 10012.57 + deposit: €  500 + base: €    0.00 + bonus: €    0.00 = new_balance: € 10512.57\n",
      "2020-01-01: start: € 10512.57 + deposit: €  500 + base: €    2.50 + bonus: €    3.57 = new_balance: € 11018.64\n",
      "2020-02-01: start: € 11018.64 + deposit: €  500 + base: €    0.00 + bonus: €    0.00 = new_balance: € 11518.64\n",
      "2020-03-01: start: € 11518.64 + deposit: €  500 + base: €    0.00 + bonus: €    0.00 = new_balance: € 12018.64\n",
      "2020-04-01: start: € 12018.64 + deposit: €  500 + base: €    2.88 + bonus: €    4.13 = new_balance: € 12525.65\n",
      "2020-05-01: start: € 12525.65 + deposit: €  500 + base: €    0.00 + bonus: €    0.00 = new_balance: € 13025.65\n",
      "2020-06-01: start: € 13025.65 + deposit: €  500 + base: €    0.00 + bonus: €    0.00 = new_balance: € 13525.65\n",
      "2020-07-01: start: € 13525.65 + deposit: €  500 + base: €    3.26 + bonus: €    4.70 = new_balance: € 14033.60\n",
      "2020-08-01: start: € 14033.60 + deposit: €  500 + base: €    0.00 + bonus: €    0.00 = new_balance: € 14533.60\n",
      "2020-09-01: start: € 14533.60 + deposit: €  500 + base: €    0.00 + bonus: €    0.00 = new_balance: € 15033.60\n",
      "2020-10-01: start: € 15033.60 + deposit: €  500 + base: €    3.63 + bonus: €    5.26 = new_balance: € 15542.50\n",
      "2020-11-01: start: € 15542.50 + deposit: €  500 + base: €    0.00 + bonus: €    0.00 = new_balance: € 16042.50\n",
      "2020-12-01: start: € 16042.50 + deposit: €  500 + base: €    0.00 + bonus: €    0.00 = new_balance: € 16542.50\n",
      "2021-01-01: start: € 16542.50 + deposit: €  500 + base: €    4.01 + bonus: €    5.83 = new_balance: € 17052.34\n",
      "2021-02-01: start: € 17052.34 + deposit: €  500 + base: €    0.00 + bonus: €    0.00 = new_balance: € 17552.34\n",
      "2021-03-01: start: € 17552.34 + deposit: €  500 + base: €    0.00 + bonus: €    0.00 = new_balance: € 18052.34\n",
      "2021-04-01: start: € 18052.34 + deposit: €  500 + base: €    4.39 + bonus: €    6.39 = new_balance: € 18563.12\n",
      "2021-05-01: start: € 18563.12 + deposit: €  500 + base: €    0.00 + bonus: €    0.00 = new_balance: € 19063.12\n",
      "2021-06-01: start: € 19063.12 + deposit: €  500 + base: €    0.00 + bonus: €    0.00 = new_balance: € 19563.12\n",
      "2021-07-01: start: € 19563.12 + deposit: €  500 + base: €    4.77 + bonus: €    6.96 = new_balance: € 20074.85\n",
      "2021-08-01: start: € 20074.85 + deposit: €  500 + base: €    0.00 + bonus: €    0.00 = new_balance: € 20574.85\n",
      "2021-09-01: start: € 20574.85 + deposit: €  500 + base: €    0.00 + bonus: €    0.00 = new_balance: € 21074.85\n",
      "2021-10-01: start: € 21074.85 + deposit: €  500 + base: €    5.14 + bonus: €    7.53 = new_balance: € 21587.52\n",
      "2021-11-01: start: € 21587.52 + deposit: €  500 + base: €    0.00 + bonus: €    0.00 = new_balance: € 22087.52\n",
      "2021-12-01: start: € 22087.52 + deposit: €  500 + base: €    0.00 + bonus: €    0.00 = new_balance: € 22587.52\n",
      "2022-01-01: start: € 22587.52 + deposit: €  500 + base: €    5.52 + bonus: €    8.10 = new_balance: € 23101.14\n",
      "2022-02-01: start: € 23101.14 + deposit: €  500 + base: €    0.00 + bonus: €    0.00 = new_balance: € 23601.14\n",
      "2022-03-01: start: € 23601.14 + deposit: €  500 + base: €    0.00 + bonus: €    0.00 = new_balance: € 24101.14\n",
      "2022-04-01: start: € 24101.14 + deposit: €  500 + base: €    5.90 + bonus: €    8.66 = new_balance: € 24615.70\n",
      "2022-05-01: start: € 24615.70 + deposit: €  500 + base: €    0.00 + bonus: €    0.00 = new_balance: € 25115.70\n",
      "2022-06-01: start: € 25115.70 + deposit: €  500 + base: €    0.00 + bonus: €    0.00 = new_balance: € 25615.70\n",
      "2022-07-01: start: € 25615.70 + deposit: €  500 + base: €    6.28 + bonus: €    9.23 = new_balance: € 26131.21\n",
      "2022-08-01: start: € 26131.21 + deposit: €  500 + base: €    0.00 + bonus: €    0.00 = new_balance: € 26631.21\n",
      "2022-09-01: start: € 26631.21 + deposit: €  500 + base: €    0.00 + bonus: €    0.00 = new_balance: € 27131.21\n",
      "2022-10-01: start: € 27131.21 + deposit: €  500 + base: €    6.66 + bonus: €    9.80 = new_balance: € 27647.67\n",
      "2022-11-01: start: € 27647.67 + deposit: €  500 + base: €    0.00 + bonus: €    0.00 = new_balance: € 28147.67\n",
      "2022-12-01: start: € 28147.67 + deposit: €  500 + base: €    0.00 + bonus: €    0.00 = new_balance: € 28647.67\n",
      "2023-01-01: start: € 28647.67 + deposit: €  500 + base: €    7.04 + bonus: €   10.37 = new_balance: € 29165.07\n",
      "2023-02-01: start: € 29165.07 + deposit: €  500 + base: €    0.00 + bonus: €    0.00 = new_balance: € 29665.07\n",
      "2023-03-01: start: € 29665.07 + deposit: €  500 + base: €    0.00 + bonus: €    0.00 = new_balance: € 30165.07\n",
      "2023-04-01: start: € 30165.07 + deposit: €  500 + base: €    7.42 + bonus: €   10.94 = new_balance: € 30683.43\n",
      "2023-05-01: start: € 30683.43 + deposit: €  500 + base: €    0.00 + bonus: €    0.00 = new_balance: € 31183.43\n",
      "2023-06-01: start: € 31183.43 + deposit: €  500 + base: €    0.00 + bonus: €    0.00 = new_balance: € 31683.43\n",
      "2023-07-01: start: € 31683.43 + deposit: €  500 + base: €    7.80 + bonus: €   11.51 = new_balance: € 32202.73\n",
      "2023-08-01: start: € 32202.73 + deposit: €  500 + base: €    0.00 + bonus: €    0.00 = new_balance: € 32702.73\n",
      "2023-09-01: start: € 32702.73 + deposit: €  500 + base: €    0.00 + bonus: €    0.00 = new_balance: € 33202.73\n",
      "2023-10-01: start: € 33202.73 + deposit: €  500 + base: €    8.18 + bonus: €   12.08 = new_balance: € 33722.98\n",
      "2023-11-01: start: € 33722.98 + deposit: €  500 + base: €    0.00 + bonus: €    0.00 = new_balance: € 34222.98\n",
      "2023-12-01: start: € 34222.98 + deposit: €  500 + base: €    0.00 + bonus: €    0.00 = new_balance: € 34722.98\n",
      "2024-01-01: start: € 34722.98 + deposit: €  500 + base: €    8.56 + bonus: €   12.65 = new_balance: € 35244.18\n"
     ]
    }
   ],
   "source": [
    "current_date = start_date\n",
    "balances = []\n",
    "deposits = []\n",
    "\n",
    "while current_date <= end_date:\n",
    "    \n",
    "    # get starting balance\n",
    "    starting_balance = 0 if current_date == start_date else balances[-1]\n",
    "    \n",
    "    # calculate deposit\n",
    "    deposit = first_deposit if current_date == start_date else monthly_deposit\n",
    "    \n",
    "    # calculate base interest and bonus interest\n",
    "    if current_date.month in (1, 4, 7, 10) and current_date > start_date:\n",
    "        # this only works because we don't do any withdrawals!\n",
    "        base_interest_amount = (\n",
    "            monthly_base_interest * 3 * balances[-3] +\n",
    "            monthly_base_interest * 2 * deposits[-2] +\n",
    "            monthly_base_interest * 1 * deposits[-1]\n",
    "        )\n",
    "        bonus_interest_amount = quarterly_bonus_interest * min(balances[-3:])\n",
    "    else:\n",
    "        base_interest_amount = 0\n",
    "        bonus_interest_amount = 0\n",
    "    \n",
    "    #calculate new balance\n",
    "    new_balance = starting_balance + deposit + base_interest_amount + bonus_interest_amount\n",
    "    \n",
    "    print(s.format(\n",
    "        c=current_date,\n",
    "        s=starting_balance,\n",
    "        d=deposit,\n",
    "        base=base_interest_amount,\n",
    "        bonus=bonus_interest_amount,\n",
    "        nb=new_balance\n",
    "    ))\n",
    "        \n",
    "    current_date = dt.date(current_date.year, current_date.month + 1, 1) if current_date.month != 12 else dt.date(current_date.year + 1, 1, 1)\n",
    "    balances.append(new_balance)\n",
    "    deposits.append(deposit)"
   ]
  },
  {
   "cell_type": "code",
   "execution_count": 7,
   "metadata": {},
   "outputs": [
    {
     "name": "stdout",
     "output_type": "stream",
     "text": [
      "€ 244.18\n"
     ]
    }
   ],
   "source": [
    "# Q3: Out of the total amount on 1st of January 2024, how much was generated by interest payments?\n",
    "print(\"€ {:.2f}\".format(balances[-1] - sum(deposits)))"
   ]
  }
 ],
 "metadata": {
  "kernelspec": {
   "display_name": "Python 3",
   "language": "python",
   "name": "python3"
  },
  "language_info": {
   "codemirror_mode": {
    "name": "ipython",
    "version": 3
   },
   "file_extension": ".py",
   "mimetype": "text/x-python",
   "name": "python",
   "nbconvert_exporter": "python",
   "pygments_lexer": "ipython3",
   "version": "3.7.1"
  }
 },
 "nbformat": 4,
 "nbformat_minor": 2
}
