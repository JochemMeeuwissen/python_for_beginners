{
 "cells": [
  {
   "cell_type": "markdown",
   "metadata": {
    "slideshow": {
     "slide_type": "slide"
    }
   },
   "source": [
    "##### Python beginners course - chapter 6: classes"
   ]
  },
  {
   "cell_type": "markdown",
   "metadata": {
    "slideshow": {
     "slide_type": "subslide"
    }
   },
   "source": [
    "### The goal of this chapter is to make you familiar with:\n",
    "* classes\n",
    "* class inheritance\n",
    "* `__init__` function\n",
    "* `self` argument"
   ]
  },
  {
   "cell_type": "markdown",
   "metadata": {
    "slideshow": {
     "slide_type": "subslide"
    }
   },
   "source": [
    "### Do you enjoy this `class`?"
   ]
  },
  {
   "cell_type": "markdown",
   "metadata": {
    "slideshow": {
     "slide_type": "fragment"
    }
   },
   "source": [
    "#### classes are python's way of defining objects\n",
    "Classes are useful for creating order in your code. Functions that are related to a common object can be linked to such a class."
   ]
  },
  {
   "cell_type": "code",
   "execution_count": 1,
   "metadata": {
    "slideshow": {
     "slide_type": "fragment"
    }
   },
   "outputs": [],
   "source": [
    "class Car:\n",
    "    \n",
    "    def i_am_a_class_function():\n",
    "        print(\"I am a car\")\n",
    "    pass"
   ]
  },
  {
   "cell_type": "code",
   "execution_count": 2,
   "metadata": {
    "slideshow": {
     "slide_type": "fragment"
    }
   },
   "outputs": [
    {
     "name": "stdout",
     "output_type": "stream",
     "text": [
      "I am a car\n"
     ]
    }
   ],
   "source": [
    "#call your class function!\n",
    "Car.i_am_a_class_function()"
   ]
  },
  {
   "cell_type": "markdown",
   "metadata": {
    "slideshow": {
     "slide_type": "subslide"
    }
   },
   "source": [
    "#### So far not so interesting, but let's pimp our ride!"
   ]
  },
  {
   "cell_type": "code",
   "execution_count": 3,
   "metadata": {
    "slideshow": {
     "slide_type": "fragment"
    }
   },
   "outputs": [],
   "source": [
    "class Car:\n",
    "    \n",
    "    def __init__(self):\n",
    "        self.speed = 50\n",
    "        self.angle = 0\n",
    "        self.color = 'red'\n",
    "        self.max_speed = 180\n",
    "        \n",
    "    def turn_left(self, angle):\n",
    "        self.angle = (self.angle - angle)%360\n",
    "        \n",
    "    def turn_right(self, angle):\n",
    "        self.angle = (self.angle + angle)%360\n",
    "        \n",
    "    def accelerate(self, speed_increase):\n",
    "        self.speed = min(self.speed + speed_increase, self.max_speed)\n",
    "    \n",
    "    def brake(self, speed_decrease):\n",
    "        self.speed = max(self.speed - speed_decrease, 0)\n",
    "        \n",
    "    def horn(self):\n",
    "        print(\"tooooot tooooot!\")        "
   ]
  },
  {
   "cell_type": "code",
   "execution_count": 4,
   "metadata": {
    "slideshow": {
     "slide_type": "subslide"
    }
   },
   "outputs": [],
   "source": [
    "#create our own car object and  call it my_car\n",
    "my_car = Car()"
   ]
  },
  {
   "cell_type": "code",
   "execution_count": 5,
   "metadata": {
    "slideshow": {
     "slide_type": "fragment"
    }
   },
   "outputs": [
    {
     "name": "stdout",
     "output_type": "stream",
     "text": [
      "50\n",
      "75\n"
     ]
    }
   ],
   "source": [
    "# lets see what our speed is\n",
    "print(my_car.speed)\n",
    "\n",
    "# now accelerate by 25 km/h\n",
    "\n",
    "my_car.accelerate(25) \n",
    "\n",
    "print(my_car.speed)"
   ]
  },
  {
   "cell_type": "markdown",
   "metadata": {
    "slideshow": {
     "slide_type": "fragment"
    }
   },
   "source": [
    "##### What do you notice?"
   ]
  },
  {
   "cell_type": "markdown",
   "metadata": {
    "slideshow": {
     "slide_type": "subslide"
    }
   },
   "source": [
    "#### But we are not just driving any car."
   ]
  },
  {
   "cell_type": "code",
   "execution_count": 6,
   "metadata": {
    "slideshow": {
     "slide_type": "fragment"
    }
   },
   "outputs": [],
   "source": [
    "class Tesla(Car):\n",
    "    \n",
    "    def __init__(self):\n",
    "        self.fuel_type = 'electric'\n",
    "        self.color = 'black'\n",
    "        self.max_speed = 250\n",
    "        self.auto = False\n",
    "        self.speed = 25\n",
    "        self.angle = 180\n",
    "    \n",
    "    def autopilot(self):\n",
    "        if self.auto == False:\n",
    "            self.auto == True\n",
    "            print(\"autopilot turned on\")\n",
    "        elif self.auto == True:\n",
    "            self.auto == False\n",
    "            print(\"autopilot turned off\")    "
   ]
  },
  {
   "cell_type": "code",
   "execution_count": 7,
   "metadata": {
    "slideshow": {
     "slide_type": "subslide"
    }
   },
   "outputs": [
    {
     "name": "stdout",
     "output_type": "stream",
     "text": [
      "black\n",
      "250\n"
     ]
    }
   ],
   "source": [
    "tesla_s = Tesla()\n",
    "\n",
    "print(tesla_s.color)\n",
    "\n",
    "tesla_s.accelerate(350)\n",
    "\n",
    "print(tesla_s.speed)"
   ]
  },
  {
   "cell_type": "markdown",
   "metadata": {
    "slideshow": {
     "slide_type": "fragment"
    }
   },
   "source": [
    "#### What do you notice?"
   ]
  }
 ],
 "metadata": {
  "celltoolbar": "Slideshow",
  "kernelspec": {
   "display_name": "Python 3",
   "language": "python",
   "name": "python3"
  },
  "language_info": {
   "codemirror_mode": {
    "name": "ipython",
    "version": 3
   },
   "file_extension": ".py",
   "mimetype": "text/x-python",
   "name": "python",
   "nbconvert_exporter": "python",
   "pygments_lexer": "ipython3",
   "version": "3.7.1"
  }
 },
 "nbformat": 4,
 "nbformat_minor": 2
}
