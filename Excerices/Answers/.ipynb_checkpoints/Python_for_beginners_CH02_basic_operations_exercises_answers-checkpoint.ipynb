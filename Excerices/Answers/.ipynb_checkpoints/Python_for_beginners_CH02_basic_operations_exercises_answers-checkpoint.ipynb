{
 "cells": [
  {
   "cell_type": "markdown",
   "metadata": {},
   "source": [
    "### Chapter 2 exercises: basic operations"
   ]
  },
  {
   "cell_type": "code",
   "execution_count": 1,
   "metadata": {},
   "outputs": [],
   "source": [
    "import numpy as np"
   ]
  },
  {
   "cell_type": "markdown",
   "metadata": {},
   "source": [
    "#### Using the numpy package, try to add, substract, divide and multiply"
   ]
  },
  {
   "cell_type": "code",
   "execution_count": 2,
   "metadata": {},
   "outputs": [
    {
     "name": "stdout",
     "output_type": "stream",
     "text": [
      "10030\n",
      "58\n",
      "41.0\n",
      "399\n"
     ]
    }
   ],
   "source": [
    "# Add 7921 to 2109\n",
    "print(np.add(7921,2109))\n",
    "# Substract 81 from 139\n",
    "print(np.subtract(139,81))\n",
    "# Divide 123 by 3\n",
    "print(np.divide(123,3))\n",
    "# Multiply 21 by 19\n",
    "print(np.multiply(21,19))"
   ]
  },
  {
   "cell_type": "markdown",
   "metadata": {},
   "source": [
    "#### Using the numpy package, try to use the exp and log functions"
   ]
  },
  {
   "cell_type": "code",
   "execution_count": 3,
   "metadata": {},
   "outputs": [
    {
     "name": "stdout",
     "output_type": "stream",
     "text": [
      "1.0512710963760241\n",
      "13.815510557964274\n",
      "216\n"
     ]
    }
   ],
   "source": [
    "# Take the exponent of 0.05\n",
    "print(np.exp(0.05))\n",
    "# Take the log of 1 million\n",
    "print(np.log(1e6))\n",
    "# Take the third power of six\n",
    "print(np.power(6,3))"
   ]
  },
  {
   "cell_type": "markdown",
   "metadata": {},
   "source": [
    "#### Calculate the following measurements of planet earth based on its circumference"
   ]
  },
  {
   "cell_type": "code",
   "execution_count": 6,
   "metadata": {},
   "outputs": [
    {
     "name": "stdout",
     "output_type": "stream",
     "text": [
      "6378.134344407706\n",
      "127801866.92606941\n",
      "611353107540.4398\n"
     ]
    }
   ],
   "source": [
    "earth_circumference = 40075\n",
    "\n",
    "# radius\n",
    "radius = np.divide(earth_circumference,np.multiply(2,np.pi))\n",
    "print(radius)\n",
    "# surface\n",
    "surface = np.pi*radius**2\n",
    "print(surface)\n",
    "# volume\n",
    "volume = 3/4*np.pi*radius**3\n",
    "print(volume)"
   ]
  },
  {
   "cell_type": "markdown",
   "metadata": {},
   "source": [
    "#### Explain in an `f-print` statement how much time it takes for sunlight to reach the earth."
   ]
  },
  {
   "cell_type": "code",
   "execution_count": 9,
   "metadata": {},
   "outputs": [
    {
     "name": "stdout",
     "output_type": "stream",
     "text": [
      "\n",
      "Did you know that with the earth being 149600000 km's away from the sun, \n",
      "and the speed of light being 299792.458 km per second, it takes 8.316864773607259 minutes\n",
      "for sunlight to reach the earth?\n",
      "This means that when you look at the sun during the final moment of a sunset, the sun is actually already gone.\n",
      "\n"
     ]
    }
   ],
   "source": [
    "distance_sun_earth = 149600000 #in km's\n",
    "speed_of_light = 299792458 #m/s\n",
    "\n",
    "print(f\"\"\"\n",
    "Did you know that with the earth being {distance_sun_earth} km's away from the sun, \n",
    "and the speed of light being {speed_of_light/1000} km per second, it takes {distance_sun_earth/(speed_of_light/1000)/60} minutes\n",
    "for sunlight to reach the earth?\n",
    "This means that when you look at the sun during the final moment of a sunset, the sun is actually already gone.\n",
    "\"\"\"\n",
    ")"
   ]
  }
 ],
 "metadata": {
  "kernelspec": {
   "display_name": "Python 3",
   "language": "python",
   "name": "python3"
  },
  "language_info": {
   "codemirror_mode": {
    "name": "ipython",
    "version": 3
   },
   "file_extension": ".py",
   "mimetype": "text/x-python",
   "name": "python",
   "nbconvert_exporter": "python",
   "pygments_lexer": "ipython3",
   "version": "3.7.1"
  }
 },
 "nbformat": 4,
 "nbformat_minor": 2
}
