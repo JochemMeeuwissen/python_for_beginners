{
 "cells": [
  {
   "cell_type": "markdown",
   "metadata": {
    "slideshow": {
     "slide_type": "slide"
    }
   },
   "source": [
    "## Python beginners course - chapter 3: Data structures"
   ]
  },
  {
   "cell_type": "markdown",
   "metadata": {
    "slideshow": {
     "slide_type": "subslide"
    }
   },
   "source": [
    "### The goal of this chapter is to make you familiar with python's most used data structures, including:\n",
    "* Lists\n",
    "* Tuples \n",
    "* Dictionaries\n",
    "* Sets"
   ]
  },
  {
   "cell_type": "markdown",
   "metadata": {
    "slideshow": {
     "slide_type": "subslide"
    }
   },
   "source": [
    "## Are you still `list`ening?\n",
    "\n",
    "#### Lists is a handy structure for many reasons:"
   ]
  },
  {
   "cell_type": "code",
   "execution_count": 1,
   "metadata": {
    "slideshow": {
     "slide_type": "fragment"
    }
   },
   "outputs": [
    {
     "name": "stdout",
     "output_type": "stream",
     "text": [
      "['a', 1, 'b', 2]\n"
     ]
    }
   ],
   "source": [
    "# it can store both strings and numbers\n",
    "\n",
    "my_list = ['a',1,'b',2]\n",
    "print(my_list)"
   ]
  },
  {
   "cell_type": "code",
   "execution_count": 2,
   "metadata": {
    "slideshow": {
     "slide_type": "fragment"
    }
   },
   "outputs": [
    {
     "name": "stdout",
     "output_type": "stream",
     "text": [
      "['this feels like', ['inception']]\n"
     ]
    }
   ],
   "source": [
    "# it can also be nested, as in a lists in a list\n",
    "nested_list = ['this feels like', ['inception']]\n",
    "print(nested_list)"
   ]
  },
  {
   "cell_type": "markdown",
   "metadata": {
    "slideshow": {
     "slide_type": "subslide"
    }
   },
   "source": [
    "#### But now it is time to really step into the python world: slicing and dicing"
   ]
  },
  {
   "cell_type": "code",
   "execution_count": 3,
   "metadata": {
    "slideshow": {
     "slide_type": "fragment"
    }
   },
   "outputs": [
    {
     "name": "stdout",
     "output_type": "stream",
     "text": [
      "[3, 4, 5, 6, 7, 8, 9]\n",
      "[4, 5]\n"
     ]
    }
   ],
   "source": [
    "my_list = [3,4,5,6,7,8,9]\n",
    "print(my_list)\n",
    "\n",
    "print(my_list[1:3])"
   ]
  },
  {
   "cell_type": "markdown",
   "metadata": {
    "slideshow": {
     "slide_type": "fragment"
    }
   },
   "source": [
    "##### Do you know what just happened there?"
   ]
  },
  {
   "cell_type": "markdown",
   "metadata": {
    "slideshow": {
     "slide_type": "subslide"
    }
   },
   "source": [
    "#### Slicing can be done in many more ways"
   ]
  },
  {
   "cell_type": "code",
   "execution_count": 4,
   "metadata": {
    "slideshow": {
     "slide_type": "fragment"
    }
   },
   "outputs": [
    {
     "name": "stdout",
     "output_type": "stream",
     "text": [
      "[3, 4, 5, 6, 7, 8, 9]\n",
      "[7, 8, 9]\n",
      "[3, 5, 7, 9]\n"
     ]
    }
   ],
   "source": [
    "# First including last\n",
    "print(my_list[0:])\n",
    "\n",
    "# last three\n",
    "print(my_list[-3:])\n",
    "\n",
    "# every other\n",
    "print(my_list[0::2])"
   ]
  },
  {
   "cell_type": "markdown",
   "metadata": {
    "slideshow": {
     "slide_type": "subslide"
    }
   },
   "source": [
    "#### Some other interesting functionalities when it comes to lists:"
   ]
  },
  {
   "cell_type": "code",
   "execution_count": 5,
   "metadata": {
    "slideshow": {
     "slide_type": "fragment"
    }
   },
   "outputs": [
    {
     "data": {
      "text/plain": [
       "[3, 4, 6, 8, 9, 10]"
      ]
     },
     "execution_count": 5,
     "metadata": {},
     "output_type": "execute_result"
    }
   ],
   "source": [
    "# add new items\n",
    "my_list.append(10)\n",
    "\n",
    "# pop items\n",
    "my_list.pop(4)\n",
    "\n",
    "# drop items\n",
    "my_list.remove(5)\n",
    "\n",
    "my_list"
   ]
  },
  {
   "cell_type": "markdown",
   "metadata": {
    "slideshow": {
     "slide_type": "fragment"
    }
   },
   "source": [
    "##### Something seems strange. Can you tell what this is?"
   ]
  },
  {
   "cell_type": "markdown",
   "metadata": {
    "slideshow": {
     "slide_type": "subslide"
    }
   },
   "source": [
    "### Tulips? Turtles? Nah, just `Tuples`"
   ]
  },
  {
   "cell_type": "markdown",
   "metadata": {
    "slideshow": {
     "slide_type": "subslide"
    }
   },
   "source": [
    "#### Tuples are similar to lists, they are both sequences. The differences however is that unlike lists, tuples are immutable"
   ]
  },
  {
   "cell_type": "code",
   "execution_count": 6,
   "metadata": {
    "slideshow": {
     "slide_type": "fragment"
    }
   },
   "outputs": [
    {
     "name": "stdout",
     "output_type": "stream",
     "text": [
      "('a', 'men', 'called', 'Jezus')\n"
     ]
    }
   ],
   "source": [
    "# Tuples are written within parentheses:\n",
    "\n",
    "tup1 = ('a','men','called','Jezus')\n",
    "\n",
    "print(tup1)"
   ]
  },
  {
   "cell_type": "code",
   "execution_count": 7,
   "metadata": {
    "slideshow": {
     "slide_type": "fragment"
    }
   },
   "outputs": [
    {
     "name": "stdout",
     "output_type": "stream",
     "text": [
      "1\n",
      "3\n"
     ]
    }
   ],
   "source": [
    "# Tuples do not have attributes like append or drop, only count() and index()\n",
    "print(tup1.count('a'))\n",
    "\n",
    "print(tup1.index('Jezus'))"
   ]
  },
  {
   "cell_type": "code",
   "execution_count": 8,
   "metadata": {
    "slideshow": {
     "slide_type": "fragment"
    }
   },
   "outputs": [
    {
     "data": {
      "text/plain": [
       "('a', 'Jezus')"
      ]
     },
     "execution_count": 8,
     "metadata": {},
     "output_type": "execute_result"
    }
   ],
   "source": [
    "# It is possible to slice though, in the same way as list slicing\n",
    "\n",
    "tup1[0::3]"
   ]
  },
  {
   "cell_type": "markdown",
   "metadata": {
    "slideshow": {
     "slide_type": "subslide"
    }
   },
   "source": [
    "### Your `dictionary` holds the key to my value"
   ]
  },
  {
   "cell_type": "markdown",
   "metadata": {
    "slideshow": {
     "slide_type": "subslide"
    }
   },
   "source": [
    "#### A dictionary is an unordered set of key: value pairs, with the requirement that the keys are unique\n",
    "\n",
    "Dictionaries can be very useful. Once you know what you are looking for (the key), you can retrieve related data (the value). These keys are typically strings or numbers and the values can takes various data structures, like strings, lists, dictionaries and many other."
   ]
  },
  {
   "cell_type": "code",
   "execution_count": 9,
   "metadata": {
    "slideshow": {
     "slide_type": "fragment"
    }
   },
   "outputs": [
    {
     "name": "stdout",
     "output_type": "stream",
     "text": [
      "{'key_1': 'value_1', 'key_2': 'value_2'}\n",
      "{'length_in_cm': 199, 'weight_in_kg': 90}\n",
      "value_1\n",
      "value_1\n"
     ]
    }
   ],
   "source": [
    "# dictionaries are created using curly brackets with key:value pairs\n",
    "my_dict = {'key_1': 'value_1', 'key_2': 'value_2'}\n",
    "print(my_dict)\n",
    "# but could also be created using the built-in dict() function\n",
    "my_second_dict = dict(length_in_cm= 199, weight_in_kg=90)\n",
    "print(my_second_dict)\n",
    "\n",
    "# values can be accessed using square brackets or the get method\n",
    "print(my_dict['key_1'])\n",
    "print(my_dict.get('key_1'))"
   ]
  },
  {
   "cell_type": "markdown",
   "metadata": {
    "slideshow": {
     "slide_type": "subslide"
    }
   },
   "source": [
    "#### It is very easy to add or delete new key:value pairs"
   ]
  },
  {
   "cell_type": "code",
   "execution_count": 10,
   "metadata": {
    "slideshow": {
     "slide_type": "fragment"
    }
   },
   "outputs": [
    {
     "name": "stdout",
     "output_type": "stream",
     "text": [
      "key_not_found\n",
      "{'key_1': 'value_1', 'key_2': 'value_2', 'key_0': 'value_0'}\n"
     ]
    }
   ],
   "source": [
    "my_dict['key_0'] = 'value_0'\n",
    "print(my_dict.pop('key_3','key_not_found'))\n",
    "\n",
    "print(my_dict)"
   ]
  },
  {
   "cell_type": "markdown",
   "metadata": {
    "slideshow": {
     "slide_type": "subslide"
    }
   },
   "source": [
    "#### Some interesting functionalities with dictionaries:"
   ]
  },
  {
   "cell_type": "code",
   "execution_count": 11,
   "metadata": {
    "slideshow": {
     "slide_type": "fragment"
    }
   },
   "outputs": [
    {
     "name": "stdout",
     "output_type": "stream",
     "text": [
      "default_value\n",
      "dict_keys(['key_1', 'key_2', 'key_0'])\n",
      "dict_items([('key_1', 'value_1'), ('key_2', 'value_2'), ('key_0', 'value_0')])\n"
     ]
    }
   ],
   "source": [
    "# return default value in case key is not found\n",
    "print(my_dict.get('key_3','default_value'))\n",
    "\n",
    "# return all keys in the dictionary\n",
    "print(my_dict.keys())\n",
    "\n",
    "# return all key:value pairs as a list of tuples\n",
    "print(my_dict.items())"
   ]
  },
  {
   "cell_type": "code",
   "execution_count": 12,
   "metadata": {
    "slideshow": {
     "slide_type": "fragment"
    }
   },
   "outputs": [
    {
     "name": "stdout",
     "output_type": "stream",
     "text": [
      "{'NL': 'Amsterdam', 'BE': 'Brussels', 'LU': 'Luxemburg'}\n"
     ]
    }
   ],
   "source": [
    "#### You can even turn lists into dictionaries!\n",
    "countries = [\"NL\", \"BE\", \"LU\"]\n",
    "capitals = [\"Amsterdam\", \"Brussels\", \"Luxemburg\"]\n",
    "print(dict(zip(countries, capitals)))"
   ]
  },
  {
   "cell_type": "markdown",
   "metadata": {
    "slideshow": {
     "slide_type": "subslide"
    }
   },
   "source": [
    "### Game, `set`, match!"
   ]
  },
  {
   "cell_type": "markdown",
   "metadata": {
    "slideshow": {
     "slide_type": "subslide"
    }
   },
   "source": [
    "#### A set is an unordered collection with no duplicate elements. This makes sets very useful for:\n",
    "* membership testing\n",
    "* removing duplicates"
   ]
  },
  {
   "cell_type": "markdown",
   "metadata": {
    "slideshow": {
     "slide_type": "subslide"
    }
   },
   "source": [
    "#### A set can be created using curly brackets, or use the set function with lists or strings as input"
   ]
  },
  {
   "cell_type": "code",
   "execution_count": 13,
   "metadata": {
    "slideshow": {
     "slide_type": "fragment"
    }
   },
   "outputs": [
    {
     "name": "stdout",
     "output_type": "stream",
     "text": [
      "{'horses', 'snakes', 'dogs', 'cats', 'cows'}\n",
      "{'burritos', 'fries', 'pizza', 'pasta', 'pancakes', 'salad'}\n",
      "{'r', 'd', 'b', 'k', 'a'}\n"
     ]
    }
   ],
   "source": [
    "# A set can be created using curly brackets\n",
    "\n",
    "my_set = {'dogs','cats','snakes','horses','cows'}\n",
    "print(my_set)\n",
    "\n",
    "# or use the set function with lists as input\n",
    "my_second_set = set(['pizza','fries','pasta','salad','burritos','pasta','pancakes'])\n",
    "print(my_second_set)\n",
    "\n",
    "# or with strings as input\n",
    "my_third_set = set('abrakadabra')\n",
    "print(my_third_set)"
   ]
  },
  {
   "cell_type": "markdown",
   "metadata": {
    "slideshow": {
     "slide_type": "subslide"
    }
   },
   "source": [
    "#### Are you in or are you out?"
   ]
  },
  {
   "cell_type": "code",
   "execution_count": 14,
   "metadata": {
    "slideshow": {
     "slide_type": "fragment"
    }
   },
   "outputs": [
    {
     "name": "stdout",
     "output_type": "stream",
     "text": [
      "False\n",
      "True\n"
     ]
    }
   ],
   "source": [
    "# membership testing is easy with sets:\n",
    "\n",
    "print('pigs' in my_set)\n",
    "\n",
    "print('snakes' in my_set)\n"
   ]
  },
  {
   "cell_type": "markdown",
   "metadata": {
    "slideshow": {
     "slide_type": "subslide"
    }
   },
   "source": [
    "#### No one like me"
   ]
  },
  {
   "cell_type": "code",
   "execution_count": 15,
   "metadata": {
    "slideshow": {
     "slide_type": "fragment"
    }
   },
   "outputs": [
    {
     "name": "stdout",
     "output_type": "stream",
     "text": [
      "{'orange', 'gold', 'red', 'yellow', 'green', 'blue', 'purple'}\n"
     ]
    }
   ],
   "source": [
    "# converting lists or strings to set immediately takes out duplicates\n",
    "\n",
    "my_list = ['gold','purple','red','blue','orange','yellow','blue','green']\n",
    "\n",
    "print(set(my_list))\n"
   ]
  },
  {
   "cell_type": "markdown",
   "metadata": {
    "slideshow": {
     "slide_type": "subslide"
    }
   },
   "source": [
    "#### Sets are also extremely useful when comparing data"
   ]
  },
  {
   "cell_type": "code",
   "execution_count": 16,
   "metadata": {
    "slideshow": {
     "slide_type": "fragment"
    }
   },
   "outputs": [
    {
     "name": "stdout",
     "output_type": "stream",
     "text": [
      "{0, 8, 5, 7}\n",
      "set()\n"
     ]
    }
   ],
   "source": [
    "list_1 = [0,2,4,5,6,7,8]\n",
    "list_2 = list(range(2,8,2)) # note the use of range here, another useful function!\n",
    "\n",
    "# \n",
    "print(\n",
    "    set(list_1)-set(list_2)\n",
    ")\n",
    "\n",
    "#\n",
    "print(\n",
    "    set(list_2)-set(list_1)\n",
    ")"
   ]
  },
  {
   "cell_type": "markdown",
   "metadata": {
    "slideshow": {
     "slide_type": "fragment"
    }
   },
   "source": [
    "##### Who could explain the result?"
   ]
  }
 ],
 "metadata": {
  "celltoolbar": "Slideshow",
  "kernelspec": {
   "display_name": "Python 3",
   "language": "python",
   "name": "python3"
  },
  "language_info": {
   "codemirror_mode": {
    "name": "ipython",
    "version": 3
   },
   "file_extension": ".py",
   "mimetype": "text/x-python",
   "name": "python",
   "nbconvert_exporter": "python",
   "pygments_lexer": "ipython3",
   "version": "3.7.1"
  }
 },
 "nbformat": 4,
 "nbformat_minor": 2
}
